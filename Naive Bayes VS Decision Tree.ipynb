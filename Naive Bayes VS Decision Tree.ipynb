{
 "cells": [
  {
   "cell_type": "code",
   "execution_count": 74,
   "id": "27ae2384",
   "metadata": {
    "scrolled": true
   },
   "outputs": [
    {
     "data": {
      "text/plain": [
       "Sepal.Length           6.9\n",
       "Sepal.Width            3.1\n",
       "Petal.Length           4.9\n",
       "Petal.Width            1.5\n",
       "Species         versicolor\n",
       "Name: 52, dtype: object"
      ]
     },
     "execution_count": 74,
     "metadata": {},
     "output_type": "execute_result"
    }
   ],
   "source": [
    "#Importing necessary libraries:\n",
    "from sklearn.datasets import load_iris\n",
    "from sklearn import tree\n",
    "import seaborn as sns\n",
    "from sklearn.tree import export_text\n",
    "from sklearn.tree import DecisionTreeClassifier\n",
    "from sklearn.model_selection import train_test_split\n",
    "from matplotlib import pyplot as plt\n",
    "import graphviz\n",
    "import pandas as pd\n",
    "from sklearn.preprocessing import StandardScaler\n",
    "from sklearn.naive_bayes import GaussianNB\n",
    "from sklearn.metrics import accuracy_score\n",
    "\n",
    "#Iris dataset:\n",
    "iris = pd.read_csv(\"D:/Machine Learning Practical/Lab Exercises/LAB 6/iris.csv\")\n",
    "iris=iris.drop([\"Unnamed: 0\"],axis=1)\n",
    "iris.iloc[52]"
   ]
  },
  {
   "cell_type": "markdown",
   "id": "e5fcb670",
   "metadata": {},
   "source": [
    "## NAIVE BAYES METHOD"
   ]
  },
  {
   "cell_type": "code",
   "execution_count": 58,
   "id": "ebac544d",
   "metadata": {},
   "outputs": [
    {
     "data": {
      "text/html": [
       "<div>\n",
       "<style scoped>\n",
       "    .dataframe tbody tr th:only-of-type {\n",
       "        vertical-align: middle;\n",
       "    }\n",
       "\n",
       "    .dataframe tbody tr th {\n",
       "        vertical-align: top;\n",
       "    }\n",
       "\n",
       "    .dataframe thead th {\n",
       "        text-align: right;\n",
       "    }\n",
       "</style>\n",
       "<table border=\"1\" class=\"dataframe\">\n",
       "  <thead>\n",
       "    <tr style=\"text-align: right;\">\n",
       "      <th></th>\n",
       "      <th>Sepal.Length</th>\n",
       "      <th>Sepal.Width</th>\n",
       "      <th>Petal.Length</th>\n",
       "      <th>Petal.Width</th>\n",
       "      <th>Species</th>\n",
       "    </tr>\n",
       "  </thead>\n",
       "  <tbody>\n",
       "    <tr>\n",
       "      <th>0</th>\n",
       "      <td>5.1</td>\n",
       "      <td>3.5</td>\n",
       "      <td>1.4</td>\n",
       "      <td>0.2</td>\n",
       "      <td>0</td>\n",
       "    </tr>\n",
       "    <tr>\n",
       "      <th>1</th>\n",
       "      <td>4.9</td>\n",
       "      <td>3.0</td>\n",
       "      <td>1.4</td>\n",
       "      <td>0.2</td>\n",
       "      <td>0</td>\n",
       "    </tr>\n",
       "    <tr>\n",
       "      <th>2</th>\n",
       "      <td>4.7</td>\n",
       "      <td>3.2</td>\n",
       "      <td>1.3</td>\n",
       "      <td>0.2</td>\n",
       "      <td>0</td>\n",
       "    </tr>\n",
       "    <tr>\n",
       "      <th>3</th>\n",
       "      <td>4.6</td>\n",
       "      <td>3.1</td>\n",
       "      <td>1.5</td>\n",
       "      <td>0.2</td>\n",
       "      <td>0</td>\n",
       "    </tr>\n",
       "    <tr>\n",
       "      <th>4</th>\n",
       "      <td>5.0</td>\n",
       "      <td>3.6</td>\n",
       "      <td>1.4</td>\n",
       "      <td>0.2</td>\n",
       "      <td>0</td>\n",
       "    </tr>\n",
       "    <tr>\n",
       "      <th>...</th>\n",
       "      <td>...</td>\n",
       "      <td>...</td>\n",
       "      <td>...</td>\n",
       "      <td>...</td>\n",
       "      <td>...</td>\n",
       "    </tr>\n",
       "    <tr>\n",
       "      <th>145</th>\n",
       "      <td>6.7</td>\n",
       "      <td>3.0</td>\n",
       "      <td>5.2</td>\n",
       "      <td>2.3</td>\n",
       "      <td>1</td>\n",
       "    </tr>\n",
       "    <tr>\n",
       "      <th>146</th>\n",
       "      <td>6.3</td>\n",
       "      <td>2.5</td>\n",
       "      <td>5.0</td>\n",
       "      <td>1.9</td>\n",
       "      <td>1</td>\n",
       "    </tr>\n",
       "    <tr>\n",
       "      <th>147</th>\n",
       "      <td>6.5</td>\n",
       "      <td>3.0</td>\n",
       "      <td>5.2</td>\n",
       "      <td>2.0</td>\n",
       "      <td>1</td>\n",
       "    </tr>\n",
       "    <tr>\n",
       "      <th>148</th>\n",
       "      <td>6.2</td>\n",
       "      <td>3.4</td>\n",
       "      <td>5.4</td>\n",
       "      <td>2.3</td>\n",
       "      <td>1</td>\n",
       "    </tr>\n",
       "    <tr>\n",
       "      <th>149</th>\n",
       "      <td>5.9</td>\n",
       "      <td>3.0</td>\n",
       "      <td>5.1</td>\n",
       "      <td>1.8</td>\n",
       "      <td>1</td>\n",
       "    </tr>\n",
       "  </tbody>\n",
       "</table>\n",
       "<p>150 rows × 5 columns</p>\n",
       "</div>"
      ],
      "text/plain": [
       "     Sepal.Length  Sepal.Width  Petal.Length  Petal.Width Species\n",
       "0             5.1          3.5           1.4          0.2       0\n",
       "1             4.9          3.0           1.4          0.2       0\n",
       "2             4.7          3.2           1.3          0.2       0\n",
       "3             4.6          3.1           1.5          0.2       0\n",
       "4             5.0          3.6           1.4          0.2       0\n",
       "..            ...          ...           ...          ...     ...\n",
       "145           6.7          3.0           5.2          2.3       1\n",
       "146           6.3          2.5           5.0          1.9       1\n",
       "147           6.5          3.0           5.2          2.0       1\n",
       "148           6.2          3.4           5.4          2.3       1\n",
       "149           5.9          3.0           5.1          1.8       1\n",
       "\n",
       "[150 rows x 5 columns]"
      ]
     },
     "execution_count": 58,
     "metadata": {},
     "output_type": "execute_result"
    }
   ],
   "source": [
    "#Changinf response variable to 0,1,2\n",
    "\n",
    "for i in range(len(iris)):\n",
    "    if( iris[\"Species\"][i]==\"setosa\"):\n",
    "        iris[\"Species\"][i]=int(0)\n",
    "    if( iris[\"Species\"][i]==\"virginica\"):\n",
    "        iris[\"Species\"][i]=int(2)\n",
    "    if( iris[\"Species\"][i]==\"versicolor\"):\n",
    "        iris[\"Species\"][i]=int(1)\n",
    "\n",
    "iris"
   ]
  },
  {
   "cell_type": "code",
   "execution_count": 60,
   "id": "7dcf6390",
   "metadata": {},
   "outputs": [
    {
     "data": {
      "text/plain": [
       "Sepal.Length    float64\n",
       "Sepal.Width     float64\n",
       "Petal.Length    float64\n",
       "Petal.Width     float64\n",
       "Species         float64\n",
       "dtype: object"
      ]
     },
     "execution_count": 60,
     "metadata": {},
     "output_type": "execute_result"
    },
    {
     "data": {
      "image/png": "[encoded data removed]",
      "text/plain": [
       "<Figure size 640x480 with 2 Axes>"
      ]
     },
     "metadata": {},
     "output_type": "display_data"
    }
   ],
   "source": [
    "iris[\"Species\"]=iris[\"Species\"].astype(float)\n",
    "#Feature Selection\n",
    "corr=iris.corr(method='pearson')\n",
    "sns.heatmap(corr,annot=True)\n",
    "\n",
    "#We see that there is moderate correlation between all regressors. Since Multicollinearity exist we will use Naive Bayes Method."
   ]
  },
  {
   "cell_type": "code",
   "execution_count": 64,
   "id": "a6665fc5",
   "metadata": {
    "scrolled": true
   },
   "outputs": [],
   "source": [
    "from sklearn.preprocessing import StandardScaler\n",
    "\n",
    "#Training and Testing\n",
    "X=pd.DataFrame(iris.drop([\"Species\"],axis=1))\n",
    "y=pd.DataFrame(iris[\"Species\"])\n",
    "\n",
    "\n",
    "#Normalizing the data\n",
    "scalar=StandardScaler()\n",
    "X=pd.DataFrame(scalar.fit_transform(X))\n",
    "\n",
    "#Train and Test Data\n",
    "X_train, X_test, y_train, y_test=train_test_split(X,y,test_size=0.3,random_state=1)"
   ]
  },
  {
   "cell_type": "markdown",
   "id": "6a5bc544",
   "metadata": {},
   "source": [
    "#### Using Gausian Naive Baye's"
   ]
  },
  {
   "cell_type": "code",
   "execution_count": 82,
   "id": "511f973a",
   "metadata": {},
   "outputs": [
    {
     "name": "stdout",
     "output_type": "stream",
     "text": [
      "The Testing Accuracy for Naive bayes is:  0.9333333333333333\n"
     ]
    },
    {
     "name": "stderr",
     "output_type": "stream",
     "text": [
      "C:\\Users\\jesto\\anaconda3\\lib\\site-packages\\sklearn\\utils\\validation.py:993: DataConversionWarning: A column-vector y was passed when a 1d array was expected. Please change the shape of y to (n_samples, ), for example using ravel().\n",
      "  y = column_or_1d(y, warn=True)\n"
     ]
    }
   ],
   "source": [
    "from sklearn.naive_bayes import GaussianNB\n",
    "from sklearn.metrics import accuracy_score\n",
    "\n",
    "#model\n",
    "model=GaussianNB().fit(X_train, y_train)\n",
    "\n",
    "#prediction\n",
    "y_pred = model.predict(X_test)\n",
    "\n",
    "#Error rate for Naive Bayes\n",
    "test_error_naive= 1 - model.score(X_test,y_test)\n",
    "test_error_naive\n",
    "\n",
    "#Testing Accuracy\n",
    "print(\"The Testing Accuracy for Naive bayes is: \",accuracy_score(y_test,y_pred))"
   ]
  },
  {
   "cell_type": "markdown",
   "id": "b28919da",
   "metadata": {},
   "source": [
    "## DECISION TREE METHOD"
   ]
  },
  {
   "cell_type": "code",
   "execution_count": 76,
   "id": "df095b01",
   "metadata": {},
   "outputs": [],
   "source": [
    "#Fitting the decision tree classifier:\n",
    "a = tree.DecisionTreeClassifier()\n",
    "clf = a.fit(X_train, y_train)"
   ]
  },
  {
   "cell_type": "code",
   "execution_count": 78,
   "id": "b5cd376d",
   "metadata": {},
   "outputs": [
    {
     "name": "stdout",
     "output_type": "stream",
     "text": [
      "Training score for max depth 1 is:  0.6952380952380952 \n",
      "\n",
      "Testing score for max depth 1 is:  0.6 \n",
      "\n",
      "Training score for max depth 2 is:  0.9619047619047619 \n",
      "\n",
      "Testing score for max depth 2 is:  0.9555555555555556 \n",
      "\n",
      "Training score for max depth 3 is:  0.9809523809523809 \n",
      "\n",
      "Testing score for max depth 3 is:  0.9555555555555556 \n",
      "\n",
      "Training score for max depth 4 is:  1.0 \n",
      "\n",
      "Testing score for max depth 4 is:  0.9555555555555556 \n",
      "\n",
      "Training score for max depth 5 is:  1.0 \n",
      "\n",
      "Testing score for max depth 5 is:  0.9555555555555556 \n",
      "\n",
      "Training score for max depth 6 is:  1.0 \n",
      "\n",
      "Testing score for max depth 6 is:  0.9555555555555556 \n",
      "\n",
      "Training score for max depth 7 is:  1.0 \n",
      "\n",
      "Testing score for max depth 7 is:  0.9555555555555556 \n",
      "\n",
      "Training score for max depth 8 is:  1.0 \n",
      "\n",
      "Testing score for max depth 8 is:  0.9555555555555556 \n",
      "\n",
      "Training score for max depth 9 is:  1.0 \n",
      "\n",
      "Testing score for max depth 9 is:  0.9555555555555556 \n",
      "\n"
     ]
    }
   ],
   "source": [
    "#fINDING THE BEST MODEL\n",
    "for i in range(1,10):\n",
    "      \n",
    "      clf = tree.DecisionTreeClassifier(max_depth=i).fit(X_train,y_train)\n",
    "      print(\"Training score for max depth\",i,\"is: \",clf.score(X_train, y_train),\"\\n\")\n",
    "      print(\"Testing score for max depth\",i,\"is: \",clf.score(X_test, y_test),\"\\n\")"
   ]
  },
  {
   "cell_type": "markdown",
   "id": "6163b991",
   "metadata": {},
   "source": [
    "Note: We see that for Max Depth =3 , we get the optimal accuracy without overfitting. Hence that is the best model."
   ]
  },
  {
   "cell_type": "code",
   "execution_count": 79,
   "id": "4d964ade",
   "metadata": {},
   "outputs": [
    {
     "name": "stdout",
     "output_type": "stream",
     "text": [
      "The Training Accuracy is :  0.9809523809523809\n",
      "The Testing Accuracy is :  0.9555555555555556\n"
     ]
    }
   ],
   "source": [
    "#Fitting the best model\n",
    "a= tree.DecisionTreeClassifier(max_depth=3)\n",
    "clf_best = a.fit(X_train, y_train)\n",
    "\n",
    "#Training and testing accuracy\n",
    "print(\"The Training Accuracy is : \",clf_best.score(X_train, y_train))\n",
    "print(\"The Testing Accuracy is : \",clf_best.score(X_test, y_test))"
   ]
  },
  {
   "cell_type": "markdown",
   "id": "c9dab702",
   "metadata": {},
   "source": [
    "### Conclusion: Hence we see that the Testing Accuracy for Decison Tree is better than Naive Bayes  "
   ]
  },
  {
   "cell_type": "code",
   "execution_count": null,
   "id": "f258a7e5",
   "metadata": {},
   "outputs": [],
   "source": []
  }
 ],
 "metadata": {
  "kernelspec": {
   "display_name": "Python 3 (ipykernel)",
   "language": "python",
   "name": "python3"
  },
  "language_info": {
   "codemirror_mode": {
    "name": "ipython",
    "version": 3
   },
   "file_extension": ".py",
   "mimetype": "text/x-python",
   "name": "python",
   "nbconvert_exporter": "python",
   "pygments_lexer": "ipython3",
   "version": "3.9.13"
  }
 },
 "nbformat": 4,
 "nbformat_minor": 5
}
